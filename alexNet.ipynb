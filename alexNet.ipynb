{
 "cells": [
  {
   "cell_type": "markdown",
   "metadata": {
    "_uuid": "1020827e241ac87ffdf8e0f8762a6885bdc28fbc"
   },
   "source": [
    "Import neccessary packages"
   ]
  },
  {
   "cell_type": "code",
   "execution_count": 1,
   "metadata": {
    "_cell_guid": "b1076dfc-b9ad-4769-8c92-a6c4dae69d19",
    "_uuid": "8f2839f25d086af736a60e9eeb907d3b93b6e0e5"
   },
   "outputs": [
    {
     "name": "stderr",
     "output_type": "stream",
     "text": [
      "Using TensorFlow backend.\n"
     ]
    }
   ],
   "source": [
    "import numpy as np\n",
    "import pickle\n",
    "import cv2\n",
    "from os import listdir\n",
    "from sklearn.preprocessing import LabelBinarizer\n",
    "from tensorflow import keras\n",
    "from sklearn.preprocessing import MultiLabelBinarizer\n",
    "from sklearn.model_selection import train_test_split\n",
    "import matplotlib.pyplot as plt\n",
    "from keras.models import Sequential\n",
    "from keras.layers.normalization import BatchNormalization\n",
    "from keras.layers.convolutional import Conv2D\n",
    "from keras.layers.convolutional import MaxPooling2D\n",
    "from keras.layers.core import Activation, Flatten, Dropout, Dense\n",
    "from keras import backend as K\n",
    "from keras.preprocessing.image import ImageDataGenerator\n",
    "from keras.optimizers import Adam\n",
    "from keras.preprocessing import image\n",
    "from keras.preprocessing.image import img_to_array"
   ]
  },
  {
   "cell_type": "code",
   "execution_count": 2,
   "metadata": {
    "_uuid": "7c3354a78e21a1a62ad0c4689d0ab3238fb760d4"
   },
   "outputs": [],
   "source": [
    "EPOCHS = 25\n",
    "INIT_LR = 1e-3\n",
    "BS = 32\n",
    "default_image_size = tuple((256, 256))\n",
    "image_size = 0\n",
    "directory_root = './data/plantvillage/'\n",
    "width=256\n",
    "height=256\n",
    "depth=3"
   ]
  },
  {
   "cell_type": "markdown",
   "metadata": {
    "_uuid": "2bf7ac0a0b805946f844a48e55d5281403e53f57"
   },
   "source": [
    "Function to convert images to array"
   ]
  },
  {
   "cell_type": "code",
   "execution_count": 3,
   "metadata": {
    "_uuid": "c9c3e60b13ace6c8f3e54336e12f9970fde438a3"
   },
   "outputs": [],
   "source": [
    "def convert_image_to_array(image_dir):\n",
    "    try:\n",
    "        image = cv2.imread(image_dir)\n",
    "        if image is not None :\n",
    "            image = cv2.resize(image, default_image_size)   \n",
    "            return img_to_array(image)\n",
    "        else :\n",
    "            return np.array([])\n",
    "    except Exception as e:\n",
    "        print(f\"Error : {e}\")\n",
    "        return None"
   ]
  },
  {
   "cell_type": "markdown",
   "metadata": {
    "_uuid": "24d42b87fad54a9556f78357ce673cc5152468c1"
   },
   "source": [
    "Fetch images from directory"
   ]
  },
  {
   "cell_type": "code",
   "execution_count": 4,
   "metadata": {
    "_uuid": "bb8d4c343314028f52ae3c3a840478a834a16c95"
   },
   "outputs": [
    {
     "name": "stdout",
     "output_type": "stream",
     "text": [
      "[INFO] Loading images ...\n",
      "['Corn', 'Peppers', 'Potato', 'Cherry', 'Peach', 'Raspberry', 'Grape', 'Squash', 'Strawberry', 'Soybean', 'Apple', 'Tomato', 'Orange', 'Blueberry']\n",
      "[INFO] Processing Corn_(maize)___Northern_Leaf_Blight ...\n",
      "[INFO] Processing Corn_(maize)___Common_rust_ ...\n",
      "[INFO] Processing Corn_(maize)___healthy ...\n",
      "[INFO] Processing Corn_(maize)___Cercospora_leaf_spot Gray_leaf_spot ...\n",
      "[INFO] Processing Pepper,_bell___healthy ...\n",
      "[INFO] Processing Pepper,_bell___Bacterial_spot ...\n",
      "[INFO] Processing Potato___healthy ...\n",
      "[INFO] Processing Potato___Late_blight ...\n",
      "[INFO] Processing Potato___Early_blight ...\n",
      "[INFO] Processing Cherry_(including_sour)___Powdery_mildew ...\n",
      "[INFO] Processing Cherry_(including_sour)___healthy ...\n",
      "[INFO] Processing Peach___Bacterial_spot ...\n",
      "[INFO] Processing Peach___healthy ...\n",
      "[INFO] Processing Raspberry___healthy ...\n",
      "[INFO] Processing Grape___Leaf_blight_(Isariopsis_Leaf_Spot) ...\n",
      "[INFO] Processing Grape___Black_rot ...\n",
      "[INFO] Processing Grape___healthy ...\n",
      "[INFO] Processing Grape___Esca_(Black_Measles) ...\n",
      "[INFO] Processing Squash___Powdery_mildew ...\n",
      "[INFO] Processing Strawberry___healthy ...\n",
      "[INFO] Processing Strawberry___Leaf_scorch ...\n",
      "[INFO] Processing Soybean___healthy ...\n",
      "[INFO] Processing Apple___Cedar_apple_rust ...\n",
      "[INFO] Processing Apple___Apple_scab ...\n",
      "[INFO] Processing Apple___healthy ...\n",
      "[INFO] Processing Apple___Black_rot ...\n",
      "[INFO] Processing Tomato___Tomato_mosaic_virus ...\n",
      "[INFO] Processing Tomato___Early_blight ...\n",
      "[INFO] Processing Tomato___Late_blight ...\n",
      "[INFO] Processing Tomato___Bacterial_spot ...\n",
      "[INFO] Processing Tomato___Leaf_Mold ...\n",
      "[INFO] Processing Tomato___Spider_mites Two-spotted_spider_mite ...\n",
      "[INFO] Processing Tomato___Target_Spot ...\n",
      "[INFO] Processing Tomato___Septoria_leaf_spot ...\n",
      "[INFO] Processing Tomato___healthy ...\n",
      "[INFO] Processing Tomato___Tomato_Yellow_Leaf_Curl_Virus ...\n",
      "[INFO] Processing Orange___Haunglongbing_(Citrus_greening) ...\n",
      "[INFO] Processing Blueberry___healthy ...\n",
      "[INFO] Image loading completed\n"
     ]
    }
   ],
   "source": [
    "image_list, label_list = [], []\n",
    "try:\n",
    "    print(\"[INFO] Loading images ...\")\n",
    "    root_dir = listdir(directory_root)\n",
    "    print(root_dir)\n",
    "    for directory in root_dir :\n",
    "        # remove .DS_Store from list\n",
    "        if directory == \".DS_Store\" :\n",
    "            root_dir.remove(directory)\n",
    "\n",
    "    for plant_folder in root_dir :\n",
    "        plant_disease_folder_list = listdir(f\"{directory_root}/{plant_folder}\")\n",
    "        \n",
    "        for disease_folder in plant_disease_folder_list :\n",
    "           \n",
    "            # remove .DS_Store from list\n",
    "            if disease_folder == \".DS_Store\" :\n",
    "                plant_disease_folder_list.remove(disease_folder)\n",
    "\n",
    "        for plant_disease_folder in plant_disease_folder_list:\n",
    "            print(f\"[INFO] Processing {plant_disease_folder} ...\")\n",
    "            plant_disease_image_list = listdir(f\"{directory_root}/{plant_folder}/{plant_disease_folder}/\")\n",
    "                \n",
    "            for single_plant_disease_image in plant_disease_image_list :\n",
    "                if single_plant_disease_image == \".DS_Store\" :\n",
    "                    plant_disease_image_list.remove(single_plant_disease_image)\n",
    "\n",
    "            for image in plant_disease_image_list[:200]:\n",
    "                image_directory = f\"{directory_root}/{plant_folder}/{plant_disease_folder}/{image}\"\n",
    "                if image_directory.endswith(\".jpg\") == True or image_directory.endswith(\".JPG\") == True:\n",
    "                    image_list.append(convert_image_to_array(image_directory))\n",
    "                    label_list.append(plant_disease_folder)\n",
    "    print(\"[INFO] Image loading completed\")  \n",
    "except Exception as e:\n",
    "    print(f\"Error : {e}\")"
   ]
  },
  {
   "cell_type": "markdown",
   "metadata": {
    "_uuid": "35c4b76d33e0263523e479657580104532f81d6e"
   },
   "source": [
    "Get Size of Processed Image"
   ]
  },
  {
   "cell_type": "code",
   "execution_count": 5,
   "metadata": {
    "_uuid": "6ee1ad9c422f112ec2862699b5c0f68b8d658123"
   },
   "outputs": [
    {
     "name": "stdout",
     "output_type": "stream",
     "text": [
      "7552\n"
     ]
    }
   ],
   "source": [
    "image_size = len(image_list)\n",
    "print(image_size)"
   ]
  },
  {
   "cell_type": "markdown",
   "metadata": {
    "_uuid": "905b41b226f3fd82a88e67821eb42a07f24b31f7"
   },
   "source": [
    "Transform Image Labels uisng [Scikit Learn](http://scikit-learn.org/)'s LabelBinarizer"
   ]
  },
  {
   "cell_type": "code",
   "execution_count": 6,
   "metadata": {
    "_uuid": "904ff893fe14f5060dd9e7be2ccf96ec793597e5"
   },
   "outputs": [],
   "source": [
    "label_binarizer = LabelBinarizer()\n",
    "image_labels = label_binarizer.fit_transform(label_list)\n",
    "pickle.dump(label_binarizer,open('label_transform.pkl', 'wb'))\n",
    "n_classes = len(label_binarizer.classes_)"
   ]
  },
  {
   "cell_type": "markdown",
   "metadata": {
    "_uuid": "f860c29a1d714f06d25e6a0c5bca94739e5d24cc"
   },
   "source": [
    "Print the classes"
   ]
  },
  {
   "cell_type": "code",
   "execution_count": 7,
   "metadata": {
    "_uuid": "0f876397c40c3c8aa09772a92fd60481fc9ba268"
   },
   "outputs": [
    {
     "name": "stdout",
     "output_type": "stream",
     "text": [
      "['Apple___Apple_scab' 'Apple___Black_rot' 'Apple___Cedar_apple_rust'\n",
      " 'Apple___healthy' 'Blueberry___healthy'\n",
      " 'Cherry_(including_sour)___Powdery_mildew'\n",
      " 'Cherry_(including_sour)___healthy'\n",
      " 'Corn_(maize)___Cercospora_leaf_spot Gray_leaf_spot'\n",
      " 'Corn_(maize)___Common_rust_' 'Corn_(maize)___Northern_Leaf_Blight'\n",
      " 'Corn_(maize)___healthy' 'Grape___Black_rot'\n",
      " 'Grape___Esca_(Black_Measles)'\n",
      " 'Grape___Leaf_blight_(Isariopsis_Leaf_Spot)' 'Grape___healthy'\n",
      " 'Orange___Haunglongbing_(Citrus_greening)' 'Peach___Bacterial_spot'\n",
      " 'Peach___healthy' 'Pepper,_bell___Bacterial_spot'\n",
      " 'Pepper,_bell___healthy' 'Potato___Early_blight' 'Potato___Late_blight'\n",
      " 'Potato___healthy' 'Raspberry___healthy' 'Soybean___healthy'\n",
      " 'Squash___Powdery_mildew' 'Strawberry___Leaf_scorch'\n",
      " 'Strawberry___healthy' 'Tomato___Bacterial_spot' 'Tomato___Early_blight'\n",
      " 'Tomato___Late_blight' 'Tomato___Leaf_Mold' 'Tomato___Septoria_leaf_spot'\n",
      " 'Tomato___Spider_mites Two-spotted_spider_mite' 'Tomato___Target_Spot'\n",
      " 'Tomato___Tomato_Yellow_Leaf_Curl_Virus' 'Tomato___Tomato_mosaic_virus'\n",
      " 'Tomato___healthy']\n"
     ]
    }
   ],
   "source": [
    "print(label_binarizer.classes_)"
   ]
  },
  {
   "cell_type": "code",
   "execution_count": 8,
   "metadata": {
    "_uuid": "6cd9c977b3d164a5570a0c24fdd8624adb9d56b8"
   },
   "outputs": [],
   "source": [
    "np_image_list = np.array(image_list, dtype=np.float16) / 225.0"
   ]
  },
  {
   "cell_type": "code",
   "execution_count": 9,
   "metadata": {
    "_uuid": "9f4829560fdfa218cee18c1cfb2eb9452ef180e5"
   },
   "outputs": [
    {
     "name": "stdout",
     "output_type": "stream",
     "text": [
      "[INFO] Spliting data to train, test\n"
     ]
    }
   ],
   "source": [
    "print(\"[INFO] Spliting data to train, test\")\n",
    "x_train, x_test, y_train, y_test = train_test_split(np_image_list, image_labels, test_size=0.2, random_state = 42) "
   ]
  },
  {
   "cell_type": "code",
   "execution_count": 10,
   "metadata": {
    "_uuid": "eec8afa64e676d52c814fc8e096955a60f13b6c5"
   },
   "outputs": [],
   "source": [
    "aug = ImageDataGenerator(\n",
    "    rotation_range=25, width_shift_range=0.1,\n",
    "    height_shift_range=0.1, shear_range=0.2, \n",
    "    zoom_range=0.2,horizontal_flip=True, \n",
    "    fill_mode=\"nearest\")"
   ]
  },
  {
   "cell_type": "code",
   "execution_count": 11,
   "metadata": {
    "_cell_guid": "79c7e3d0-c299-4dcb-8224-4455121ee9b0",
    "_uuid": "d629ff2d2480ee46fbb7e2d37f6b5fab8052498a"
   },
   "outputs": [],
   "source": [
    "model = Sequential()\n",
    "\n",
    "# 1st Convolutional Layer\n",
    "model.add(Conv2D(filters=96,input_shape=(256,256,3), kernel_size=(11,11),\\\n",
    " strides=(4,4), padding='valid'))\n",
    "model.add(Activation('relu'))\n",
    "# Pooling \n",
    "model.add(MaxPooling2D(pool_size=(3,3), strides=(2,2), padding='valid'))\n",
    "# Batch Normalisation before passing it to the next layer\n",
    "model.add(BatchNormalization())\n",
    "\n",
    "# 2nd Convolutional Layer\n",
    "model.add(Conv2D(filters=256, kernel_size=(5,5), strides=(1,1), padding='valid'))\n",
    "model.add(Activation('relu'))\n",
    "# Pooling\n",
    "model.add(MaxPooling2D(pool_size=(3,3), strides=(2,2), padding='valid'))\n",
    "# Batch Normalisation\n",
    "model.add(BatchNormalization())\n",
    "\n",
    "# 3rd Convolutional Layer\n",
    "model.add(Conv2D(filters=384, kernel_size=(3,3), strides=(1,1), padding='valid'))\n",
    "model.add(Activation('relu'))\n",
    "# Batch Normalisation\n",
    "#model.add(BatchNormalization())\n",
    "\n",
    "# 4th Convolutional Layer\n",
    "model.add(Conv2D(filters=384, kernel_size=(3,3), strides=(1,1), padding='valid'))\n",
    "model.add(Activation('relu'))\n",
    "# Batch Normalisation\n",
    "#model.add(BatchNormalization())\n",
    "\n",
    "# 5th Convolutional Layer\n",
    "model.add(Conv2D(filters=256, kernel_size=(3,3), strides=(1,1), padding='valid'))\n",
    "model.add(Activation('relu'))\n",
    "# Pooling\n",
    "model.add(MaxPooling2D(pool_size=(3,3), strides=(2,2), padding='valid'))\n",
    "# Batch Normalisation\n",
    "model.add(BatchNormalization())\n",
    "\n",
    "# Passing it to a dense layer\n",
    "model.add(Flatten())\n",
    "# 1st Dense Layer\n",
    "model.add(Dense(4096))\n",
    "model.add(Activation('relu'))\n",
    "# Add Dropout to prevent overfitting\n",
    "model.add(Dropout(0.4))\n",
    "# Batch Normalisation\n",
    "model.add(BatchNormalization())\n",
    "\n",
    "# 2nd Dense Layer\n",
    "model.add(Dense(4096))\n",
    "model.add(Activation('relu'))\n",
    "# Add Dropout\n",
    "model.add(Dropout(0.4))\n",
    "# Batch Normalisation\n",
    "model.add(BatchNormalization())\n",
    "\n",
    "# Output Layer\n",
    "model.add(Dense(38))\n",
    "model.add(Activation('softmax'))\n",
    "\n",
    "\n"
   ]
  },
  {
   "cell_type": "markdown",
   "metadata": {
    "_uuid": "53b13c03e4cea6dc2453a84e254b806ebeed2d99"
   },
   "source": [
    "Model Summary"
   ]
  },
  {
   "cell_type": "code",
   "execution_count": 12,
   "metadata": {
    "_uuid": "1e1523a834fbf872940171fbdefb3dcce2b5f31b"
   },
   "outputs": [
    {
     "name": "stdout",
     "output_type": "stream",
     "text": [
      "Model: \"sequential_1\"\n",
      "_________________________________________________________________\n",
      "Layer (type)                 Output Shape              Param #   \n",
      "=================================================================\n",
      "conv2d_1 (Conv2D)            (None, 62, 62, 96)        34944     \n",
      "_________________________________________________________________\n",
      "activation_1 (Activation)    (None, 62, 62, 96)        0         \n",
      "_________________________________________________________________\n",
      "max_pooling2d_1 (MaxPooling2 (None, 30, 30, 96)        0         \n",
      "_________________________________________________________________\n",
      "batch_normalization_1 (Batch (None, 30, 30, 96)        384       \n",
      "_________________________________________________________________\n",
      "conv2d_2 (Conv2D)            (None, 26, 26, 256)       614656    \n",
      "_________________________________________________________________\n",
      "activation_2 (Activation)    (None, 26, 26, 256)       0         \n",
      "_________________________________________________________________\n",
      "max_pooling2d_2 (MaxPooling2 (None, 12, 12, 256)       0         \n",
      "_________________________________________________________________\n",
      "batch_normalization_2 (Batch (None, 12, 12, 256)       1024      \n",
      "_________________________________________________________________\n",
      "conv2d_3 (Conv2D)            (None, 10, 10, 384)       885120    \n",
      "_________________________________________________________________\n",
      "activation_3 (Activation)    (None, 10, 10, 384)       0         \n",
      "_________________________________________________________________\n",
      "conv2d_4 (Conv2D)            (None, 8, 8, 384)         1327488   \n",
      "_________________________________________________________________\n",
      "activation_4 (Activation)    (None, 8, 8, 384)         0         \n",
      "_________________________________________________________________\n",
      "conv2d_5 (Conv2D)            (None, 6, 6, 256)         884992    \n",
      "_________________________________________________________________\n",
      "activation_5 (Activation)    (None, 6, 6, 256)         0         \n",
      "_________________________________________________________________\n",
      "max_pooling2d_3 (MaxPooling2 (None, 2, 2, 256)         0         \n",
      "_________________________________________________________________\n",
      "batch_normalization_3 (Batch (None, 2, 2, 256)         1024      \n",
      "_________________________________________________________________\n",
      "flatten_1 (Flatten)          (None, 1024)              0         \n",
      "_________________________________________________________________\n",
      "dense_1 (Dense)              (None, 4096)              4198400   \n",
      "_________________________________________________________________\n",
      "activation_6 (Activation)    (None, 4096)              0         \n",
      "_________________________________________________________________\n",
      "dropout_1 (Dropout)          (None, 4096)              0         \n",
      "_________________________________________________________________\n",
      "batch_normalization_4 (Batch (None, 4096)              16384     \n",
      "_________________________________________________________________\n",
      "dense_2 (Dense)              (None, 4096)              16781312  \n",
      "_________________________________________________________________\n",
      "activation_7 (Activation)    (None, 4096)              0         \n",
      "_________________________________________________________________\n",
      "dropout_2 (Dropout)          (None, 4096)              0         \n",
      "_________________________________________________________________\n",
      "batch_normalization_5 (Batch (None, 4096)              16384     \n",
      "_________________________________________________________________\n",
      "dense_3 (Dense)              (None, 38)                155686    \n",
      "_________________________________________________________________\n",
      "activation_8 (Activation)    (None, 38)                0         \n",
      "=================================================================\n",
      "Total params: 24,917,798\n",
      "Trainable params: 24,900,198\n",
      "Non-trainable params: 17,600\n",
      "_________________________________________________________________\n"
     ]
    }
   ],
   "source": [
    "model.summary()"
   ]
  },
  {
   "cell_type": "code",
   "execution_count": 13,
   "metadata": {
    "_uuid": "b21dffee32c325136b4ea23ac511049723f34a24"
   },
   "outputs": [
    {
     "name": "stdout",
     "output_type": "stream",
     "text": [
      "[INFO] training network...\n"
     ]
    }
   ],
   "source": [
    "# (4) Compile \n",
    "opt = Adam(lr=INIT_LR, decay=INIT_LR / EPOCHS)\n",
    "model.compile(loss='binary_crossentropy', optimizer=opt, metrics=['accuracy'])\n",
    "\n",
    "# train the network\n",
    "print(\"[INFO] training network...\")"
   ]
  },
  {
   "cell_type": "code",
   "execution_count": 14,
   "metadata": {
    "_uuid": "1a13efc5ded339fc3c0d9e61041e8ca555362db0"
   },
   "outputs": [
    {
     "name": "stdout",
     "output_type": "stream",
     "text": [
      "Epoch 1/25\n",
      "188/188 [==============================] - 88s 466ms/step - loss: 0.1334 - accuracy: 0.9695 - val_loss: 0.1856 - val_accuracy: 0.9633\n",
      "Epoch 2/25\n",
      "188/188 [==============================] - 83s 442ms/step - loss: 0.1214 - accuracy: 0.9695 - val_loss: 0.2434 - val_accuracy: 0.9561\n",
      "Epoch 3/25\n",
      "188/188 [==============================] - 83s 441ms/step - loss: 0.1109 - accuracy: 0.9703 - val_loss: 0.1926 - val_accuracy: 0.9634\n",
      "Epoch 4/25\n",
      "188/188 [==============================] - 83s 440ms/step - loss: 0.1036 - accuracy: 0.9712 - val_loss: 0.5089 - val_accuracy: 0.9513\n",
      "Epoch 5/25\n",
      "188/188 [==============================] - 82s 437ms/step - loss: 0.0952 - accuracy: 0.9726 - val_loss: 0.4072 - val_accuracy: 0.9527\n",
      "Epoch 6/25\n",
      "188/188 [==============================] - 82s 434ms/step - loss: 0.0894 - accuracy: 0.9736 - val_loss: 0.1795 - val_accuracy: 0.9635\n",
      "Epoch 7/25\n",
      "188/188 [==============================] - 81s 429ms/step - loss: 0.1072 - accuracy: 0.9718 - val_loss: 0.2107 - val_accuracy: 0.9635\n",
      "Epoch 8/25\n",
      "188/188 [==============================] - 81s 429ms/step - loss: 0.0915 - accuracy: 0.9732 - val_loss: 0.2246 - val_accuracy: 0.9609\n",
      "Epoch 9/25\n",
      "188/188 [==============================] - 80s 426ms/step - loss: 0.0890 - accuracy: 0.9735 - val_loss: 0.2784 - val_accuracy: 0.9579\n",
      "Epoch 10/25\n",
      "188/188 [==============================] - 80s 426ms/step - loss: 0.0842 - accuracy: 0.9750 - val_loss: 0.1793 - val_accuracy: 0.9608\n",
      "Epoch 11/25\n",
      "188/188 [==============================] - 81s 428ms/step - loss: 0.0768 - accuracy: 0.9761 - val_loss: 0.0835 - val_accuracy: 0.9737\n",
      "Epoch 12/25\n",
      "188/188 [==============================] - 80s 427ms/step - loss: 0.0712 - accuracy: 0.9774 - val_loss: 0.1615 - val_accuracy: 0.9648\n",
      "Epoch 13/25\n",
      "188/188 [==============================] - 80s 425ms/step - loss: 0.0688 - accuracy: 0.9777 - val_loss: 0.0826 - val_accuracy: 0.9751\n",
      "Epoch 14/25\n",
      "188/188 [==============================] - 80s 424ms/step - loss: 0.0686 - accuracy: 0.9784 - val_loss: 0.0654 - val_accuracy: 0.9799\n",
      "Epoch 15/25\n",
      "188/188 [==============================] - 79s 423ms/step - loss: 0.0648 - accuracy: 0.9788 - val_loss: 0.1420 - val_accuracy: 0.9689\n",
      "Epoch 16/25\n",
      "188/188 [==============================] - 80s 424ms/step - loss: 0.0743 - accuracy: 0.9772 - val_loss: 0.3414 - val_accuracy: 0.9584\n",
      "Epoch 17/25\n",
      "188/188 [==============================] - 80s 424ms/step - loss: 0.0661 - accuracy: 0.9788 - val_loss: 0.1078 - val_accuracy: 0.9706\n",
      "Epoch 18/25\n",
      "188/188 [==============================] - 80s 425ms/step - loss: 0.0634 - accuracy: 0.9798 - val_loss: 0.0858 - val_accuracy: 0.9770\n",
      "Epoch 19/25\n",
      "188/188 [==============================] - 79s 422ms/step - loss: 0.0612 - accuracy: 0.9801 - val_loss: 0.0942 - val_accuracy: 0.9771\n",
      "Epoch 20/25\n",
      "188/188 [==============================] - 79s 421ms/step - loss: 0.0606 - accuracy: 0.9805 - val_loss: 0.1285 - val_accuracy: 0.9681\n",
      "Epoch 21/25\n",
      "188/188 [==============================] - 79s 423ms/step - loss: 0.0655 - accuracy: 0.9795 - val_loss: 0.1458 - val_accuracy: 0.9708\n",
      "Epoch 22/25\n",
      "188/188 [==============================] - 79s 423ms/step - loss: 0.0605 - accuracy: 0.9804 - val_loss: 0.0887 - val_accuracy: 0.9747\n",
      "Epoch 23/25\n",
      "188/188 [==============================] - 79s 422ms/step - loss: 0.0553 - accuracy: 0.9820 - val_loss: 0.0535 - val_accuracy: 0.9840\n",
      "Epoch 24/25\n",
      "188/188 [==============================] - 80s 423ms/step - loss: 0.0546 - accuracy: 0.9819 - val_loss: 0.0871 - val_accuracy: 0.9772\n",
      "Epoch 25/25\n",
      "188/188 [==============================] - 79s 421ms/step - loss: 0.0533 - accuracy: 0.9828 - val_loss: 0.0929 - val_accuracy: 0.9756\n"
     ]
    }
   ],
   "source": [
    "# (5) Train\n",
    "\n",
    "history = model.fit_generator(\n",
    "    aug.flow(x_train, y_train, batch_size=BS),\n",
    "    validation_data=(x_test, y_test),\n",
    "    steps_per_epoch=len(x_train) // BS,\n",
    "    epochs=EPOCHS, verbose=1\n",
    "    )"
   ]
  },
  {
   "cell_type": "markdown",
   "metadata": {
    "_uuid": "1495fea08b37e4d4293f975ba30e6c1fc7a85ed9"
   },
   "source": [
    "Plot the train and val curve"
   ]
  },
  {
   "cell_type": "code",
   "execution_count": 15,
   "metadata": {
    "_uuid": "0af5e0f23657a4effc2d21cf8e840e81f42ec8e7"
   },
   "outputs": [
    {
     "data": {
      "image/png": "[encoded data removed]",
      "text/plain": [
       "<Figure size 432x288 with 1 Axes>"
      ]
     },
     "metadata": {
      "needs_background": "light"
     },
     "output_type": "display_data"
    },
    {
     "data": {
      "image/png": "[encoded data removed]",
      "text/plain": [
       "<Figure size 432x288 with 1 Axes>"
      ]
     },
     "metadata": {
      "needs_background": "light"
     },
     "output_type": "display_data"
    }
   ],
   "source": [
    "acc = history.history['accuracy']\n",
    "val_acc = history.history['val_accuracy']\n",
    "loss = history.history['loss']\n",
    "val_loss = history.history['val_loss']\n",
    "epochs = range(1, len(acc) + 1)\n",
    "#Train and validation accuracy\n",
    "plt.plot(epochs, acc, 'b', label='Training accurarcy')\n",
    "plt.plot(epochs, val_acc, 'r', label='Validation accurarcy')\n",
    "plt.title('Training and Validation accurarcy')\n",
    "plt.legend()\n",
    "\n",
    "plt.figure()\n",
    "#Train and validation loss\n",
    "plt.plot(epochs, loss, 'b', label='Training loss')\n",
    "plt.plot(epochs, val_loss, 'r', label='Validation loss')\n",
    "plt.title('Training and Validation loss')\n",
    "plt.legend()\n",
    "plt.show()"
   ]
  },
  {
   "cell_type": "markdown",
   "metadata": {
    "_uuid": "9ca1a4489bd624c69a13cd37c0c2306ac8de55c2"
   },
   "source": [
    "Model Accuracy"
   ]
  },
  {
   "cell_type": "code",
   "execution_count": 16,
   "metadata": {
    "_uuid": "bb44f3d0b7e2862bc7d1a032612ebfd48212c1fe"
   },
   "outputs": [
    {
     "name": "stdout",
     "output_type": "stream",
     "text": [
      "[INFO] Calculating model accuracy\n",
      "1511/1511 [==============================] - 3s 2ms/step\n",
      "Test Accuracy: 97.5634753704071\n"
     ]
    }
   ],
   "source": [
    "print(\"[INFO] Calculating model accuracy\")\n",
    "scores = model.evaluate(x_test, y_test)\n",
    "print(f\"Test Accuracy: {scores[1]*100}\")"
   ]
  },
  {
   "cell_type": "markdown",
   "metadata": {
    "_uuid": "2a1f759db8afe933e62fe4cf8332cb303bb11be8"
   },
   "source": [
    "Save model using Pickle"
   ]
  },
  {
   "cell_type": "code",
   "execution_count": 17,
   "metadata": {
    "_uuid": "5cdf06adf492d79ed28fbdc36e02ad7489c7b33e"
   },
   "outputs": [
    {
     "name": "stdout",
     "output_type": "stream",
     "text": [
      "[INFO] Saving model...\n"
     ]
    }
   ],
   "source": [
    "# save the model to disk\n",
    "print(\"[INFO] Saving model...\")\n",
    "pickle.dump(model,open('cnn_model.pkl', 'wb'))"
   ]
  },
  {
   "cell_type": "code",
   "execution_count": null,
   "metadata": {},
   "outputs": [],
   "source": []
  }
 ],
 "metadata": {
  "environment": {
   "name": "tf2-gpu.2-1.m46",
   "type": "gcloud",
   "uri": "gcr.io/deeplearning-platform-release/tf2-gpu.2-1:m46"
  },
  "kernelspec": {
   "display_name": "Python 3",
   "language": "python",
   "name": "python3"
  },
  "language_info": {
   "codemirror_mode": {
    "name": "ipython",
    "version": 3
   },
   "file_extension": ".py",
   "mimetype": "text/x-python",
   "name": "python",
   "nbconvert_exporter": "python",
   "pygments_lexer": "ipython3",
   "version": "3.7.6"
  }
 },
 "nbformat": 4,
 "nbformat_minor": 4
}
